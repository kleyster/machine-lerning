{
 "metadata": {
  "language_info": {
   "codemirror_mode": {
    "name": "ipython",
    "version": 3
   },
   "file_extension": ".py",
   "mimetype": "text/x-python",
   "name": "python",
   "nbconvert_exporter": "python",
   "pygments_lexer": "ipython3",
   "version": "3.9.1-final"
  },
  "orig_nbformat": 2,
  "kernelspec": {
   "name": "python3",
   "display_name": "Python 3.9.1 64-bit",
   "metadata": {
    "interpreter": {
     "hash": "c3cdaf40ea821b4b223e6b23ad2a927d06cdcee944784c25fa0d34dbd9dd8b4f"
    }
   }
  }
 },
 "nbformat": 4,
 "nbformat_minor": 2,
 "cells": [
  {
   "cell_type": "code",
   "execution_count": 47,
   "metadata": {},
   "outputs": [],
   "source": [
    "def solution(N):\n",
    "    binarized = bin(N)[2:]\n",
    "    count = 0\n",
    "    arr = []\n",
    "    print(binarized)\n",
    "    for i in binarized:\n",
    "        if i=='1' and count>=1:\n",
    "            arr.append(count)\n",
    "            count=0\n",
    "        else:\n",
    "            count+=1\n",
    "    if arr:\n",
    "        mx = max(arr)-1\n",
    "        return mx\n",
    "    else:\n",
    "        return 0"
   ]
  },
  {
   "cell_type": "code",
   "execution_count": 48,
   "metadata": {},
   "outputs": [
    {
     "output_type": "stream",
     "name": "stdout",
     "text": [
      "100000\n0\n"
     ]
    }
   ],
   "source": [
    "print(solution(32))"
   ]
  }
 ]
}